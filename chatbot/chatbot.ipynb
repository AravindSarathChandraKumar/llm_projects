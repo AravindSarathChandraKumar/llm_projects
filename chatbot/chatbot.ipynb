{
 "cells": [
  {
   "cell_type": "code",
   "execution_count": 33,
   "id": "871bddc4-195e-4e93-9d47-420e3a9e64a0",
   "metadata": {},
   "outputs": [],
   "source": [
    "from openai import OpenAI\n",
    "import gradio as gr"
   ]
  },
  {
   "cell_type": "code",
   "execution_count": 34,
   "id": "c47d1573-3d3c-4cd2-9355-d96d6e08c2d4",
   "metadata": {},
   "outputs": [],
   "source": [
    "openai = OpenAI(base_url=\"http://localhost:11434/v1\",api_key=\"ollama\")\n",
    "MODEL=\"llama3.2:latest\""
   ]
  },
  {
   "cell_type": "code",
   "execution_count": 35,
   "id": "a6060277-eb22-4a70-90ff-7563d3327b91",
   "metadata": {},
   "outputs": [],
   "source": [
    "def chat(message,history):\n",
    "    print(f\"History:{history}\")\n",
    "    print(f\"Message:{message}\")\n",
    "    messages=[{\"role\":\"system\",\"content\":\"You are an AI assistant chatbot\"}]+ history+[{\"role\":\"user\",\"content\":message}]\n",
    "    response = openai.chat.completions.create(model=MODEL,messages=messages,stream=True)\n",
    "\n",
    "    result=\"\"\n",
    "    for chunk in response:\n",
    "        result+=chunk.choices[0].delta.content\n",
    "        yield result\n",
    "\n",
    "        "
   ]
  },
  {
   "cell_type": "code",
   "execution_count": 36,
   "id": "161e65aa-4b24-41a9-b508-f01c7515cc53",
   "metadata": {},
   "outputs": [
    {
     "name": "stdout",
     "output_type": "stream",
     "text": [
      "* Running on local URL:  http://127.0.0.1:7866\n",
      "\n",
      "Could not create share link. Please check your internet connection or our status page: https://status.gradio.app.\n"
     ]
    },
    {
     "data": {
      "text/html": [
       "<div><iframe src=\"http://127.0.0.1:7866/\" width=\"100%\" height=\"500\" allow=\"autoplay; camera; microphone; clipboard-read; clipboard-write;\" frameborder=\"0\" allowfullscreen></iframe></div>"
      ],
      "text/plain": [
       "<IPython.core.display.HTML object>"
      ]
     },
     "metadata": {},
     "output_type": "display_data"
    },
    {
     "data": {
      "text/plain": []
     },
     "execution_count": 36,
     "metadata": {},
     "output_type": "execute_result"
    },
    {
     "name": "stdout",
     "output_type": "stream",
     "text": [
      "History:[]\n",
      "Message:hi\n",
      "History:[{'role': 'user', 'metadata': None, 'content': 'hi', 'options': None}, {'role': 'assistant', 'metadata': None, 'content': 'How can I assist you today? Do you have a question, need help with something, or just want to chat?', 'options': None}]\n",
      "Message:Tell me a joke\n",
      "History:[{'role': 'user', 'metadata': None, 'content': 'hi', 'options': None}, {'role': 'assistant', 'metadata': None, 'content': 'How can I assist you today? Do you have a question, need help with something, or just want to chat?', 'options': None}, {'role': 'user', 'metadata': None, 'content': 'Tell me a joke', 'options': None}, {'role': 'assistant', 'metadata': None, 'content': \"Here's one:\\n\\nWhat do you call a fake noodle?\\n\\n(wait for it...)\\n\\nAn impasta!\\n\\nHope that made you smile! Would you like to hear another one?\", 'options': None}]\n",
      "Message:yes\n"
     ]
    }
   ],
   "source": [
    "gr.ChatInterface(fn=chat,type=\"messages\").launch(share=True)"
   ]
  },
  {
   "cell_type": "code",
   "execution_count": null,
   "id": "0777223d-0faa-425d-ab6e-22ef1ed4f58f",
   "metadata": {},
   "outputs": [],
   "source": []
  }
 ],
 "metadata": {
  "kernelspec": {
   "display_name": "Python 3 (ipykernel)",
   "language": "python",
   "name": "python3"
  },
  "language_info": {
   "codemirror_mode": {
    "name": "ipython",
    "version": 3
   },
   "file_extension": ".py",
   "mimetype": "text/x-python",
   "name": "python",
   "nbconvert_exporter": "python",
   "pygments_lexer": "ipython3",
   "version": "3.11.12"
  }
 },
 "nbformat": 4,
 "nbformat_minor": 5
}
